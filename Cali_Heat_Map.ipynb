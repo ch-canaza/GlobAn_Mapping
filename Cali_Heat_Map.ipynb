{
 "cells": [
  {
   "cell_type": "code",
   "execution_count": 9,
   "metadata": {},
   "outputs": [],
   "source": [
    "def calc_color(data, color=None):\n",
    "        if color   == 1: \n",
    "            color_sq = ['#dadaebFF','#bcbddcF0','#9e9ac8F0',\n",
    "                        '#807dbaF0','#6a51a3F0','#54278fF0']; \n",
    "            colors = 'Purples';\n",
    "        elif color == 2: \n",
    "            color_sq = ['#c7e9b4','#7fcdbb','#41b6c4',\n",
    "                        '#1d91c0','#225ea8','#253494']; \n",
    "            colors = 'YlGnBu';\n",
    "        elif color == 3: \n",
    "            color_sq = ['#f7f7f7','#d9d9d9','#bdbdbd',\n",
    "                        '#969696','#636363','#252525']; \n",
    "            colors = 'Greys';\n",
    "        elif color == 9: \n",
    "            color_sq = ['#ff0000','#ff0000','#ff0000',\n",
    "                        '#ff0000','#ff0000','#ff0000']\n",
    "        else:\n",
    "            color_sq = ['#ffffd4','#fee391','#fec44f',\n",
    "                        '#fe9929','#d95f0e','#993404']; \n",
    "            colors = 'YlOrBr';\n",
    "        \n",
    "        new_data, bins = pd.qcut(data, 6, retbins=True, \n",
    "        labels=list(range(6)))  # Puts data in different bins\n",
    "        print(new_data)\n",
    "        print(bins)\n",
    "        color_ton = []\n",
    "        for val in new_data:\n",
    "            color_ton.append(color_sq[val]) \n",
    "        if color != 9:\n",
    "            colors = sns.color_palette(colors, n_colors=6) #Returns a list of colors called colors with 6 colors\n",
    "            sns.palplot(colors, 0.6); # Prints the 'colors' palette\n",
    "            for i in range(6):\n",
    "                print (\"\\n\"+str(i+1)+': '+str(int(bins[i]))+\n",
    "                       \" => \"+str(int(bins[i+1])-1), end =\" \")\n",
    "            print(\"\\n\\n   1   2   3   4   5   6\")    \n",
    "        return color_ton, bins;"
   ]
  },
  {
   "cell_type": "markdown",
   "metadata": {},
   "source": [
    "Seaborn documentation:\n",
    "https://seaborn.pydata.org/generated/seaborn.color_palette.html"
   ]
  },
  {
   "cell_type": "code",
   "execution_count": null,
   "metadata": {},
   "outputs": [],
   "source": [
    "def plot_comunas_data(sf, title, comunas, data=None, \n",
    "                      color=None, print_id=False):\n",
    "    '''\n",
    "    Plot map with selected comunes, using specific color\n",
    "    '''\n",
    "    \n",
    "    color_ton, bins = calc_color(data, color)  # Breaks data in bins assigned with a color\n",
    "    df = read_shapefile(sf)\n",
    "    comuna_id = []\n",
    "    for i in comunas:\n",
    "        i = conv_comuna(i).upper()\n",
    "        comuna_id.append(df[df.NOM_COMUNA == \n",
    "                            i.upper()].index.get_values()[0])\n",
    "    plot_map_fill_multiples_ids_tone(sf, title, comuna_id, \n",
    "                                     print_id, \n",
    "                                     color_ton, \n",
    "                                     bins, \n",
    "                                     x_lim = None, \n",
    "                                     y_lim = None, \n",
    "                                     figsize = (11,9));"
   ]
  }
 ],
 "metadata": {
  "kernelspec": {
   "display_name": "Python",
   "language": "python",
   "name": "conda-env-python-py"
  },
  "language_info": {
   "codemirror_mode": {
    "name": "ipython",
    "version": 3
   },
   "file_extension": ".py",
   "mimetype": "text/x-python",
   "name": "python",
   "nbconvert_exporter": "python",
   "pygments_lexer": "ipython3",
   "version": "3.6.11"
  }
 },
 "nbformat": 4,
 "nbformat_minor": 4
}
