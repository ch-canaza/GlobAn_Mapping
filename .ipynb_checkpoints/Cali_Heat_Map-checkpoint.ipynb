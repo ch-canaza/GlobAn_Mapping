{
 "cells": [
  {
   "cell_type": "code",
   "execution_count": 1,
   "metadata": {},
   "outputs": [
    {
     "ename": "SyntaxError",
     "evalue": "invalid syntax (<ipython-input-1-672c4fe8654c>, line 2)",
     "output_type": "error",
     "traceback": [
      "\u001b[0;36m  File \u001b[0;32m\"<ipython-input-1-672c4fe8654c>\"\u001b[0;36m, line \u001b[0;32m2\u001b[0m\n\u001b[0;31m    if color   == 1: color_sq =\u001b[0m\n\u001b[0m                                 ^\u001b[0m\n\u001b[0;31mSyntaxError\u001b[0m\u001b[0;31m:\u001b[0m invalid syntax\n"
     ]
    }
   ],
   "source": [
    "def calc_color(data, color=None):\n",
    "        if color   == 1: color_sq =  \n",
    "                        ['#dadaebFF','#bcbddcF0','#9e9ac8F0',\n",
    "                        '#807dbaF0','#6a51a3F0','#54278fF0']; \n",
    "                        colors = 'Purples';\n",
    "        elif color == 2: color_sq = \n",
    "                        ['#c7e9b4','#7fcdbb','#41b6c4',\n",
    "                        '#1d91c0','#225ea8','#253494']; \n",
    "                        colors = 'YlGnBu';\n",
    "        elif color == 3: color_sq = \n",
    "                        ['#f7f7f7','#d9d9d9','#bdbdbd',\n",
    "                        '#969696','#636363','#252525']; \n",
    "                        colors = 'Greys';\n",
    "        elif color == 9: color_sq = \n",
    "                        ['#ff0000','#ff0000','#ff0000',\n",
    "                        '#ff0000','#ff0000','#ff0000']\n",
    "        else:            color_sq = \n",
    "                        ['#ffffd4','#fee391','#fec44f',\n",
    "                        '#fe9929','#d95f0e','#993404']; \n",
    "                        colors = 'YlOrBr';\n",
    "        new_data, bins = pd.qcut(data, 6, retbins=True, \n",
    "        labels=list(range(6)))\n",
    "        color_ton = []\n",
    "        for val in new_data:\n",
    "            color_ton.append(color_sq[val]) \n",
    "        if color != 9:\n",
    "            colors = sns.color_palette(colors, n_colors=6) #Returns a list of colors called colors with 6 colors\n",
    "            sns.palplot(colors, 0.6); # Prints the 'colors' palette\n",
    "            for i in range(6):\n",
    "                print (\"\\n\"+str(i+1)+': '+str(int(bins[i]))+\n",
    "                       \" => \"+str(int(bins[i+1])-1), end =\" \")\n",
    "            print(\"\\n\\n   1   2   3   4   5   6\")    \n",
    "        return color_ton, bins;"
   ]
  },
  {
   "cell_type": "markdown",
   "metadata": {},
   "source": [
    "Seaborn documentation:\n",
    "https://seaborn.pydata.org/generated/seaborn.color_palette.html"
   ]
  },
  {
   "cell_type": "code",
   "execution_count": null,
   "metadata": {},
   "outputs": [],
   "source": []
  }
 ],
 "metadata": {
  "kernelspec": {
   "display_name": "Python",
   "language": "python",
   "name": "conda-env-python-py"
  },
  "language_info": {
   "codemirror_mode": {
    "name": "ipython",
    "version": 3
   },
   "file_extension": ".py",
   "mimetype": "text/x-python",
   "name": "python",
   "nbconvert_exporter": "python",
   "pygments_lexer": "ipython3",
   "version": "3.6.11"
  }
 },
 "nbformat": 4,
 "nbformat_minor": 4
}
